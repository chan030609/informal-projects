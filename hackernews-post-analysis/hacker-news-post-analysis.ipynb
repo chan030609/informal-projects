{
 "metadata": {
  "language_info": {
   "codemirror_mode": {
    "name": "ipython",
    "version": 3
   },
   "file_extension": ".py",
   "mimetype": "text/x-python",
   "name": "python",
   "nbconvert_exporter": "python",
   "pygments_lexer": "ipython3",
   "version": "3.9.1-final"
  },
  "orig_nbformat": 2,
  "kernelspec": {
   "name": "python3",
   "display_name": "Python 3",
   "language": "python"
  }
 },
 "nbformat": 4,
 "nbformat_minor": 2,
 "cells": [
  {
   "source": [
    "# Correlation between the Types of Posts and User Interest in Hacker News\n",
    "\n",
    "Hacker News is a site started by the startup incubator Y Combinator, where user-submitted stories (known as \"posts\") are voted and commented upon, similar to reddit. Hacker News is extremely popular in technology and startup circles, and posts that make it to the top of Hacker News' listings can get hundreds of thousands of visitors as a result. "
   ],
   "cell_type": "markdown",
   "metadata": {}
  },
  {
   "source": [
    "## Introduction\n",
    "\n",
    "Below are descriptions of the columns:\n",
    "\n",
    "- `id`: The unique identifier from Hacker News for the post\n",
    "- `title`: The title of the post\n",
    "- `url`: The URL that the posts links to, if the post has a URL\n",
    "- `num_points`: The number of points the post acquired, calculated as the total number of upvotes minus the total number of downvotes\n",
    "- `num_comments`: The number of comments that were made on the post\n",
    "- `author`: The username of the person who submitted the post\n",
    "- `created_at`: The date and time at which the post was submitted\n",
    "\n",
    "The titles of some posts begin with either `Ask HN` or `Show HN`. Users submit `Ask HN` posts to ask the Hacker News community a specific question. Below are a couple examples:\n",
    ">Ask HN: How to improve my personal website?\n",
    "Ask HN: Am I the only one outraged by Twitter shutting down share counts?\n",
    "Ask HN: Aby recent changes to CSS that broke mobile?\n",
    "\n",
    "Likewise, users submit `Show HN` posts to show the Hacker News community a project, product, or just generally something interesting. Below are a couple of examples:\n",
    ">Show HN: Wio Link  ESP8266 Based Web of Things Hardware Development Platform'\n",
    "Show HN: Something pointless I made\n",
    "Show HN: Shanhu.io, a programming playground powered by e8vm\n",
    "\n",
    "These two types of posts will be compared to determine the following:\n",
    "Do `Ask HN` or `Show HN` receive more comments on average?\n",
    "Do posts created at a certain time receive more comments on average?\n",
    "\n",
    "First, the necessary libraries are imported, and the data set is converted into a list of lists.\n"
   ],
   "cell_type": "markdown",
   "metadata": {}
  },
  {
   "source": [],
   "cell_type": "markdown",
   "metadata": {}
  },
  {
   "source": [
    "from csv import reader\n",
    "hn = open('hn-2016-dataset.csv', encoding=\"utf-8\")\n",
    "hn = reader(hn)\n",
    "hn = list(hn)\n",
    "print(hn[:5])"
   ],
   "cell_type": "code",
   "metadata": {
    "tags": []
   },
   "execution_count": 1,
   "outputs": [
    {
     "output_type": "stream",
     "name": "stdout",
     "text": [
      "[['id', 'title', 'url', 'num_points', 'num_comments', 'author', 'created_at'], ['12579008', 'You have two days to comment if you want stem cells to be classified as your own', 'http://www.regulations.gov/document?D=FDA-2015-D-3719-0018', '1', '0', 'altstar', '9/26/2016 3:26'], ['12579005', 'SQLAR  the SQLite Archiver', 'https://www.sqlite.org/sqlar/doc/trunk/README.md', '1', '0', 'blacksqr', '9/26/2016 3:24'], ['12578997', 'What if we just printed a flatscreen television on the side of our boxes?', 'https://medium.com/vanmoof/our-secrets-out-f21c1f03fdc8#.ietxmez43', '1', '0', 'pavel_lishin', '9/26/2016 3:19'], ['12578989', 'algorithmic music', 'http://cacm.acm.org/magazines/2011/7/109891-algorithmic-composition/fulltext', '1', '0', 'poindontcare', '9/26/2016 3:16']]\n"
     ]
    }
   ]
  },
  {
   "source": [
    "## Removing Headers\n",
    "\n",
    "When the first five rows of the data set are printed, it is found that the first list in the inner lists contains the column headers, and the lists after contain the data for one row. Thus, the row containing the column headers has to be removed."
   ],
   "cell_type": "markdown",
   "metadata": {}
  },
  {
   "source": [
    "headers = hn[1]\n",
    "hn = hn[1:]\n",
    "print(headers)\n",
    "print(hn[:5])"
   ],
   "cell_type": "code",
   "metadata": {},
   "execution_count": 2,
   "outputs": [
    {
     "output_type": "stream",
     "name": "stdout",
     "text": [
      "['12579008', 'You have two days to comment if you want stem cells to be classified as your own', 'http://www.regulations.gov/document?D=FDA-2015-D-3719-0018', '1', '0', 'altstar', '9/26/2016 3:26']\n[['12579008', 'You have two days to comment if you want stem cells to be classified as your own', 'http://www.regulations.gov/document?D=FDA-2015-D-3719-0018', '1', '0', 'altstar', '9/26/2016 3:26'], ['12579005', 'SQLAR  the SQLite Archiver', 'https://www.sqlite.org/sqlar/doc/trunk/README.md', '1', '0', 'blacksqr', '9/26/2016 3:24'], ['12578997', 'What if we just printed a flatscreen television on the side of our boxes?', 'https://medium.com/vanmoof/our-secrets-out-f21c1f03fdc8#.ietxmez43', '1', '0', 'pavel_lishin', '9/26/2016 3:19'], ['12578989', 'algorithmic music', 'http://cacm.acm.org/magazines/2011/7/109891-algorithmic-composition/fulltext', '1', '0', 'poindontcare', '9/26/2016 3:16'], ['12578979', 'How the Data Vault Enables the Next-Gen Data Warehouse and Data Lake', 'https://www.talend.com/blog/2016/05/12/talend-and-Â\\x93the-data-vaultÂ\\x94', '1', '0', 'markgainor1', '9/26/2016 3:14']]\n"
     ]
    }
   ]
  },
  {
   "source": [
    "## Extracting Ask HN and Show HN Posts\n",
    "\n",
    "The posts were distributed into three different categories:\n",
    "- `ask_posts`, which includes the `Ask HN` posts,\n",
    "- `show_posts`, which includes the `Show HN` posts,\n",
    "- `other_posts`, which includes the rest of the posts.\n",
    "\n",
    "Then, the number of posts in each category was printed:"
   ],
   "cell_type": "markdown",
   "metadata": {}
  },
  {
   "cell_type": "code",
   "execution_count": 3,
   "metadata": {},
   "outputs": [
    {
     "output_type": "stream",
     "name": "stdout",
     "text": [
      "9139 10158 273822\n"
     ]
    }
   ],
   "source": [
    "ask_posts = []\n",
    "show_posts = []\n",
    "other_posts = []\n",
    "\n",
    "for row in hn:\n",
    "    title = row[1]\n",
    "    title = title.lower()\n",
    "    if title.startswith(\"ask hn\"):\n",
    "        ask_posts.append(row)\n",
    "    elif title.startswith(\"show hn\"):\n",
    "        show_posts.append(row)\n",
    "    else:\n",
    "        other_posts.append(row)\n",
    "\n",
    "print(len(ask_posts), len(show_posts), len(other_posts))\n"
   ]
  },
  {
   "source": [
    "## Calculating the Average Number of Comments for Each Category\n",
    "Next, the average numbers of the comments in each category of posts were calculated."
   ],
   "cell_type": "markdown",
   "metadata": {}
  },
  {
   "cell_type": "code",
   "execution_count": 4,
   "metadata": {},
   "outputs": [
    {
     "output_type": "stream",
     "name": "stdout",
     "text": [
      "10.393478498741656\n4.886099625910612\n"
     ]
    }
   ],
   "source": [
    "total_ask_comments = 0\n",
    "for row in ask_posts:\n",
    "    num_comments = int(row[4])\n",
    "    total_ask_comments += num_comments\n",
    "avg_ask_comments = total_ask_comments / len(ask_posts)\n",
    "\n",
    "total_show_comments = 0\n",
    "for row in show_posts:\n",
    "    num_comments = int(row[4])\n",
    "    total_show_comments += num_comments\n",
    "avg_show_comments = total_show_comments / len(show_posts)\n",
    "\n",
    "print(avg_ask_comments)\n",
    "print(avg_show_comments)\n",
    "    "
   ]
  },
  {
   "source": [
    "Show posts received about 10 comments per post on average, and ask posts received about 5 comments per post on average. Since ask posts are more likely to receive comments, the remaining analysis will focus on these posts."
   ],
   "cell_type": "markdown",
   "metadata": {}
  },
  {
   "source": [
    "## Finding the Amount of Ask Posts and Comments by Hour Created\n",
    "\n",
    "The next goal is to find if ask posts created at a certain *time* are more likely to attract comments. The following steps will be used to perform this analysis:\n",
    "\n",
    "- Calculate the amount of ask posts created in each hour of the day, along with the number of comments received.\n",
    "- Then, calculate the average number of comments ask posts receive by hour created.\n",
    "\n",
    "The first technique was used to find the amount of ask posts created per hour, along with the total amount of comments."
   ],
   "cell_type": "markdown",
   "metadata": {}
  },
  {
   "cell_type": "code",
   "execution_count": 5,
   "metadata": {},
   "outputs": [],
   "source": [
    "from datetime import *\n",
    "result_list = []\n",
    "for row in ask_posts:\n",
    "    l = [row[6], int(row[4])]\n",
    "    result_list.append(l)\n",
    "\n",
    "counts_by_hour = {}\n",
    "comments_by_hour = {}\n",
    "for row in result_list:\n",
    "    created_at_int = row[0]\n",
    "    created_at_dt = datetime.strptime(created_at_int, \"%m/%d/%Y %H:%M\")\n",
    "    h = created_at_dt.hour\n",
    "    if h not in counts_by_hour:\n",
    "        counts_by_hour[h] = 1\n",
    "        comments_by_hour[h] = row[1]\n",
    "    else:\n",
    "        counts_by_hour[h] += 1\n",
    "        comments_by_hour[h] += row[1]\n"
   ]
  },
  {
   "source": [
    "Here, two dictionaries were created:\n",
    "- `counts_by_hour`: contains the number of ask posts created during each hour of the day.\n",
    "- `comments_by_hour`: contains the corresponding number of comments ask posts created at each hour received."
   ],
   "cell_type": "markdown",
   "metadata": {}
  },
  {
   "source": [
    "## Calculating the Average Number of Comments for Ask HN Posts by Hour\n",
    "\n",
    "The two dictionaries created above were used to calculate the average number of comments for posts created during each hour of day. The printed result is a list of lists whose first elements are hours and second elements are the corresponding average number of comments."
   ],
   "cell_type": "markdown",
   "metadata": {}
  },
  {
   "cell_type": "code",
   "execution_count": 6,
   "metadata": {},
   "outputs": [
    {
     "output_type": "stream",
     "name": "stdout",
     "text": [
      "[[2, 11.137546468401487], [1, 7.407801418439717], [22, 8.804177545691905], [21, 8.687258687258687], [19, 7.163043478260869], [17, 9.449744463373083], [15, 28.676470588235293], [14, 9.692007797270955], [13, 16.31756756756757], [11, 8.96474358974359], [10, 10.684397163120567], [9, 6.653153153153153], [7, 7.013274336283186], [3, 7.948339483394834], [23, 6.696793002915452], [20, 8.749019607843136], [16, 7.713298791018998], [8, 9.190661478599221], [0, 7.5647840531561465], [18, 7.94299674267101], [12, 12.380116959064328], [4, 9.7119341563786], [6, 6.782051282051282], [5, 8.794258373205741]]\n"
     ]
    }
   ],
   "source": [
    "avg_by_hour = []\n",
    "for key in counts_by_hour:\n",
    "    avg_comments = comments_by_hour[key] / counts_by_hour[key]\n",
    "    l = [key, avg_comments]\n",
    "    avg_by_hour.append(l)\n",
    "print(avg_by_hour)"
   ]
  },
  {
   "source": [
    "## Sorting and Printing Values from a List of Lists\n",
    "\n",
    "Since the printed result is difficult to identify the hours with the highest values, the list of lists was sorted so that it can print the five highest values in a format that is easier to read."
   ],
   "cell_type": "markdown",
   "metadata": {}
  },
  {
   "source": [
    "swap_avg_by_hour = []\n",
    "for row in avg_by_hour:\n",
    "    l = [row[1], row[0]]\n",
    "    swap_avg_by_hour.append(l)\n",
    "sorted_swap = sorted(swap_avg_by_hour, reverse = True)\n",
    "\n",
    "print(\"<Top 5 Hours for Asks Posts Comments>\")\n",
    "for row in sorted_swap[:5]:\n",
    "    form = \"{}: {:.2f} average comments per post\"\n",
    "    time_dt = datetime.strptime(str(row[1]), \"%H\")\n",
    "    time_str = time_dt.strftime(\"%H:%M\")\n",
    "    text = form.format(time_str, row[0])\n",
    "    print(text)"
   ],
   "cell_type": "code",
   "metadata": {},
   "execution_count": 7,
   "outputs": [
    {
     "output_type": "stream",
     "name": "stdout",
     "text": [
      "<Top 5 Hours for Asks Posts Comments>\n15:00: 28.68 average comments per post\n13:00: 16.32 average comments per post\n12:00: 12.38 average comments per post\n02:00: 11.14 average comments per post\n10:00: 10.68 average comments per post\n"
     ]
    }
   ]
  },
  {
   "source": [
    "Thus, it is apparent that creating a post at 3 p.m. ET (6 p.m. PST) has the highest chance of receiving comments. In general, Hacker News users in California interact with each other mostly in the afternoon, when most people are awake during daytime."
   ],
   "cell_type": "markdown",
   "metadata": {}
  }
 ]
}